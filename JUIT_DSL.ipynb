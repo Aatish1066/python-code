{
  "cells": [
    {
      "cell_type": "markdown",
      "metadata": {
        "id": "view-in-github",
        "colab_type": "text"
      },
      "source": [
        "<a href=\"https://colab.research.google.com/github/Aatish1066/python-code/blob/main/JUIT_DSL.ipynb\" target=\"_parent\"><img src=\"https://colab.research.google.com/assets/colab-badge.svg\" alt=\"Open In Colab\"/></a>"
      ]
    },
    {
      "cell_type": "markdown",
      "metadata": {
        "id": "XkqhvQaEjuxS"
      },
      "source": [
        "# Experiment **1**_201536\n"
      ]
    },
    {
      "cell_type": "code",
      "execution_count": 3,
      "metadata": {
        "id": "HY-_z2molyCm",
        "colab": {
          "base_uri": "https://localhost:8080/"
        },
        "outputId": "3f4dd1ac-708b-403e-864d-5c1f2fbf5706"
      },
      "outputs": [
        {
          "output_type": "stream",
          "name": "stdout",
          "text": [
            "Collecting simpy\n",
            "  Downloading simpy-4.0.1-py2.py3-none-any.whl (29 kB)\n",
            "Installing collected packages: simpy\n",
            "Successfully installed simpy-4.0.1\n"
          ]
        }
      ],
      "source": [
        "!pip install simpy\n"
      ]
    },
    {
      "cell_type": "code",
      "execution_count": null,
      "metadata": {
        "colab": {
          "base_uri": "https://localhost:8080/"
        },
        "id": "4tjcfIC5oJyC",
        "outputId": "b17ccb82-95eb-4f9a-c955-45728be8b4ab"
      },
      "outputs": [
        {
          "name": "stdout",
          "output_type": "stream",
          "text": [
            "Start parking and charging at 0\n",
            "Start driving at 5\n",
            "Start parking and charging at 7\n",
            "Start driving at 12\n",
            "Start parking and charging at 14\n"
          ]
        }
      ],
      "source": [
        "class Car(object):\n",
        "     def __init__(self, env):\n",
        "         self.env = env\n",
        "         # Start the run process everytime an instance is created.\n",
        "         self.action = env.process(self.run())\n",
        "\n",
        "     def run(self):\n",
        "         while True:\n",
        "             print('Start parking and charging at %d' % self.env.now)\n",
        "             charge_duration = 5\n",
        "             # We yield the process that process() returns\n",
        "             # to wait for it to finish\n",
        "             yield self.env.process(self.charge(charge_duration))\n",
        "\n",
        "             # The charge process has finished and\n",
        "             # we can start driving again.\n",
        "             print('Start driving at %d' % self.env.now)\n",
        "             trip_duration = 2\n",
        "             yield self.env.timeout(trip_duration)\n",
        "\n",
        "     def charge(self, duration):\n",
        "        yield self.env.timeout(duration)\n",
        "env = simpy.Environment()\n",
        "car = Car(env)\n",
        "env.run(until=15)\n",
        "        "
      ]
    },
    {
      "cell_type": "markdown",
      "metadata": {
        "id": "T9UptXXFoEKn"
      },
      "source": [
        "# Experiment **2**_201536"
      ]
    },
    {
      "cell_type": "code",
      "execution_count": null,
      "metadata": {
        "colab": {
          "base_uri": "https://localhost:8080/"
        },
        "id": "nGWGNqi7tU2w",
        "outputId": "08eca9f8-70fc-4e03-8645-177b92f6cef9"
      },
      "outputs": [
        {
          "name": "stdout",
          "output_type": "stream",
          "text": [
            "Start parking and charging at 0\n",
            "Was interrupted. Hope, the battery is full enough ...\n",
            "Start driving at 3\n",
            "Start parking and charging at 5\n",
            "Start driving at 10\n",
            "Start parking and charging at 12\n"
          ]
        }
      ],
      "source": [
        "def driver(env, car):\n",
        "    yield env.timeout(3)\n",
        "    car.action.interrupt()\n",
        "\n",
        "class Car(object):\n",
        "     def __init__(self, env):\n",
        "         self.env = env\n",
        "         self.action = env.process(self.run())\n",
        "\n",
        "     def run(self):\n",
        "         while True:\n",
        "             print('Start parking and charging at %d' % self.env.now)\n",
        "             charge_duration = 5\n",
        "             # We may get interrupted while charging the battery\n",
        "             try:\n",
        "                 yield self.env.process(self.charge(charge_duration))\n",
        "             except simpy.Interrupt:\n",
        "                 # When we received an interrupt, we stop charging and\n",
        "                 # switch to the \"driving\" state\n",
        "                 print('Was interrupted. Hope, the battery is full enough ...')\n",
        "\n",
        "             print('Start driving at %d' % self.env.now)\n",
        "             trip_duration = 2\n",
        "             yield self.env.timeout(trip_duration)\n",
        "     def charge(self, duration):\n",
        "        yield self.env.timeout(duration)   \n",
        "env = simpy.Environment()\n",
        "car = Car(env)\n",
        "env.process(driver(env, car))\n",
        "env.run(until=15)         "
      ]
    },
    {
      "cell_type": "markdown",
      "metadata": {
        "id": "G_yMIXugtEIE"
      },
      "source": [
        "#Experiment_3_201536\n",
        "#Task\n",
        "Electric cars drive to the Battery Charging Station (BCS), wait for their slot, charge and leave. When it starts driving to the BCS, it will print the current simulation time. The car charges at a battery charging station if charging slots are avilable. Simulate four cars with charge duration 5 and driving duration 2, 4, 6, 8 respectively using **SimPy**\n"
      ]
    },
    {
      "cell_type": "code",
      "execution_count": null,
      "metadata": {
        "id": "pAQ3Nc74tOZ9"
      },
      "outputs": [],
      "source": [
        " def car(env, name, bcs, driving_time, charge_duration):\n",
        "     # Simulate driving to the BCS\n",
        "     yield env.timeout(driving_time)\n",
        "\n",
        "     # Request one of its charging spots\n",
        "     print('%s arriving at %d' % (name, env.now))\n",
        "     with bcs.request() as req:\n",
        "         yield req\n",
        "\n",
        "         # Charge the battery\n",
        "         print('%s starting to charge at %s' % (name, env.now))\n",
        "         yield env.timeout(charge_duration)\n",
        "         print('%s leaving the bcs at %s' % (name, env.now))"
      ]
    },
    {
      "cell_type": "code",
      "execution_count": null,
      "metadata": {
        "colab": {
          "base_uri": "https://localhost:8080/"
        },
        "id": "bNboF3T7iWAf",
        "outputId": "3e5a120a-70f9-49bd-b9ee-6a098a66fd16"
      },
      "outputs": [
        {
          "output_type": "stream",
          "name": "stdout",
          "text": [
            "Start parking at 0\n",
            "Start driving at 5\n",
            "Start parking at 7\n",
            "Start driving at 12\n",
            "Start parking at 14\n"
          ]
        }
      ],
      "source": [
        "import simpy\n",
        "env = simpy.Environment()\n",
        "def car(env):\n",
        "    while True:\n",
        "         print('Start parking at %d' % env.now)\n",
        "         parking_duration = 5\n",
        "         yield env.timeout(parking_duration)\n",
        "\n",
        "         print('Start driving at %d' % env.now)\n",
        "         trip_duration = 2\n",
        "         yield env.timeout(trip_duration)\n",
        "\n",
        "env.process(car(env))\n",
        "\n",
        "env.run(until=15)\n"
      ]
    },
    {
      "cell_type": "markdown",
      "source": [
        "#Experiment 4_201536"
      ],
      "metadata": {
        "id": "sjx5GN9cjgKe"
      }
    },
    {
      "cell_type": "code",
      "source": [
        "import simpy\n",
        "env = simpy.Environment()\n",
        "def trafflight(env):\n",
        "     while True:\n",
        "          print('signal is green at %d'%env.now)\n",
        "          green_duration = 25\n",
        "          yield env.timeout(green_duration)\n",
        "          print('signal is yellow at %d'%env.now)\n",
        "          yellow_duration = 15\n",
        "          yield env.timeout(yellow_duration)\n",
        "          print('signal is red at %d'%env.now)\n",
        "          red_duration = 60\n",
        "          yield env.timeout(red_duration)\n",
        "\n",
        "env.process(trafflight(env))\n",
        "env.run(until=200)"
      ],
      "metadata": {
        "colab": {
          "base_uri": "https://localhost:8080/"
        },
        "id": "Pm0-EyzTjmUl",
        "outputId": "8567f36e-e1da-4fe0-aff5-fb0d2db6ccd5"
      },
      "execution_count": null,
      "outputs": [
        {
          "output_type": "stream",
          "name": "stdout",
          "text": [
            "signal is green at 0\n",
            "signal is yellow at 25\n",
            "signal is red at 40\n",
            "signal is green at 100\n",
            "signal is yellow at 125\n",
            "signal is red at 140\n"
          ]
        }
      ]
    },
    {
      "cell_type": "markdown",
      "source": [
        "##experiment_5_201536\n",
        "Using SimPy model a bank counter and customers arriving at random times. Each customer has\n",
        "a certain patience. Customers waits to get to the counter until they are at the end of their tether.\n",
        "If they gets to the counter, they uses it for a while before releasing it.\n"
      ],
      "metadata": {
        "id": "gPwTu0pfmoTY"
      }
    },
    {
      "cell_type": "code",
      "source": [
        "import random                                                                   #importing required libraries\n",
        "import simpy\n",
        "NEW_CUSTOMERS =5                                                                #no of customers that are going to enter the bank in the stimulation\n",
        "INTERVAL_CUSTOMERS =10.0  \n",
        "MIN_PATIENCE=1\n",
        "MAX_PATIENCE=3\n",
        "\n",
        "def customer(env,name,counter,time_in_bank):\n",
        "  arrive=env.now\n",
        "  print('%7.4f: %s Arrived' % (arrive, name))\n",
        "  with counter.request() as req:\n",
        "      patience = random.uniform(MIN_PATIENCE, MAX_PATIENCE)\n",
        "      # Wait for the counter or abort at the end of our tether\n",
        "      results = yield req | env.timeout(patience)\n",
        "      \n",
        "      \n",
        "      \n",
        "      wait = env.now - arrive\n",
        "      if req in results:\n",
        "          # We got to the counter\n",
        "          print('%7.4f: %s Waited %6.3f' % (env.now, name, wait))\n",
        "\n",
        "          tib = random.expovariate(1.0 / time_in_bank)\n",
        "\n",
        "          yield env.timeout(tib)\n",
        "          print('%7.4f: %s Finished' % (env.now, name))\n",
        "\n",
        "      else:\n",
        "        print('%7.4f: %s RENEGED after %6.3f' % (env.now, name, wait))\n",
        "def source(env, number, interval, counter):\n",
        "    \"\"\"Source generates customers randomly\"\"\"\n",
        "    for i in range(number):\n",
        "        c = customer(env, 'Customer%02d' % i, counter, time_in_bank=12.0)\n",
        "        env.process(c)\n",
        "        t = random.expovariate(1.0 / interval)\n",
        "        yield env.timeout(t)\n",
        "\n",
        " #Setup and start the simulation\n",
        "print('Bank renege')\n",
        "env = simpy.Environment()\n",
        "# Start processes and run\n",
        "counter = simpy.Resource(env, capacity=1)\n",
        "env.process(source(env, NEW_CUSTOMERS, INTERVAL_CUSTOMERS, counter))\n",
        "env.run()        \n"
      ],
      "metadata": {
        "colab": {
          "base_uri": "https://localhost:8080/"
        },
        "id": "QbZAB4DJm6Uo",
        "outputId": "76448d08-4ec0-4fc5-f629-f2b68e5b5155"
      },
      "execution_count": null,
      "outputs": [
        {
          "output_type": "stream",
          "name": "stdout",
          "text": [
            "Bank renege\n",
            " 0.0000: Customer00 Arrived\n",
            " 0.0000: Customer00 Waited  0.000\n",
            " 8.0727: Customer01 Arrived\n",
            " 9.2537: Customer01 RENEGED after  1.181\n",
            " 9.7131: Customer00 Finished\n",
            "11.2319: Customer02 Arrived\n",
            "11.2319: Customer02 Waited  0.000\n",
            "18.8095: Customer02 Finished\n",
            "23.1522: Customer03 Arrived\n",
            "23.1522: Customer03 Waited  0.000\n",
            "26.8330: Customer03 Finished\n",
            "32.1350: Customer04 Arrived\n",
            "32.1350: Customer04 Waited  0.000\n",
            "37.7784: Customer04 Finished\n"
          ]
        }
      ]
    },
    {
      "cell_type": "markdown",
      "source": [
        "## Experiment_6_201536\n",
        "## Task\n",
        "Simulate a workshop with n identical machines. A stream of jobs arrives at the workshop. Each machine breaks down periodically. Repairs are carried out by one repairman. The repairman has other, less important tasks to perform, too. Broken machines preempt theses tasks. The repairman continues them when he is done with the machine repair. The workshop works continuously.  \n",
        "\n",
        "A machine has two processes: working implements the actual behaviour of the machine (producing parts). break_machine periodically interrupts the working process to simulate the machine failure.  \n",
        "\n",
        "The repairman’s other job is also a process (implemented by other_job). The repairman itself is a PreemptiveResource with a capacity of 1. The machine repairing has a priority of 1, while the other job has a priority of 2 (the smaller the number, the higher the priority)"
      ],
      "metadata": {
        "id": "CKdWcNRNwdqF"
      }
    },
    {
      "cell_type": "code",
      "source": [
        "import random\n",
        "\n",
        "import simpy\n",
        "\n",
        "\n",
        "RANDOM_SEED = 42\n",
        "PT_MEAN = 10.0         # Avg. processing time in minutes\n",
        "PT_SIGMA = 2.0         # Sigma of processing time\n",
        "MTTF = 300.0           # Mean time to failure in minutes\n",
        "BREAK_MEAN = 1 / MTTF  # Param. for expovariate distribution\n",
        "REPAIR_TIME = 30.0     # Time it takes to repair a machine in minutes\n",
        "JOB_DURATION = 30.0    # Duration of other jobs in minutes\n",
        "NUM_MACHINES = 10      # Number of machines in the machine shop\n",
        "WEEKS = 4              # Simulation time in weeks\n",
        "SIM_TIME = WEEKS * 7 * 24 * 60  # Simulation time in minutes\n",
        "\n",
        "\n",
        "def time_per_part():\n",
        "    \"\"\"Return actual processing time for a concrete part.\"\"\"\n",
        "    return random.normalvariate(PT_MEAN, PT_SIGMA)\n",
        "\n",
        "\n",
        "def time_to_failure():\n",
        "    \"\"\"Return time until next failure for a machine.\"\"\"\n",
        "    return random.expovariate(BREAK_MEAN)\n",
        "\n",
        "\n",
        "class Machine(object):\n",
        "    \"\"\"A machine produces parts and may get broken every now and then.\n",
        "\n",
        "    If it breaks, it requests a *repairman* and continues the production\n",
        "    after the it is repaired.\n",
        "\n",
        "    A machine has a *name* and a numberof *parts_made* thus far.\n",
        "\n",
        "    \"\"\"\n",
        "    def __init__(self, env, name, repairman):\n",
        "        self.env = env\n",
        "        self.name = name\n",
        "        self.parts_made = 0\n",
        "        self.broken = False\n",
        "\n",
        "        # Start \"working\" and \"break_machine\" processes for this machine.\n",
        "        self.process = env.process(self.working(repairman))\n",
        "        env.process(self.break_machine())\n",
        "\n",
        "    def working(self, repairman):\n",
        "        \"\"\"Produce parts as long as the simulation runs.\n",
        "\n",
        "        While making a part, the machine may break multiple times.\n",
        "        Request a repairman when this happens.\n",
        "\n",
        "        \"\"\"\n",
        "        while True:\n",
        "            # Start making a new part\n",
        "            done_in = time_per_part()\n",
        "            while done_in:\n",
        "                try:\n",
        "                    # Working on the part\n",
        "                    start = self.env.now\n",
        "                    yield self.env.timeout(done_in)\n",
        "                    done_in = 0  # Set to 0 to exit while loop.\n",
        "\n",
        "                except simpy.Interrupt:\n",
        "                    self.broken = True\n",
        "                    done_in -= self.env.now - start  # How much time left?\n",
        "\n",
        "                    # Request a repairman. This will preempt its \"other_job\".\n",
        "                    with repairman.request(priority=1) as req:\n",
        "                        yield req\n",
        "                        yield self.env.timeout(REPAIR_TIME)\n",
        "\n",
        "                    self.broken = False\n",
        "\n",
        "            # Part is done.\n",
        "            self.parts_made += 1\n",
        "\n",
        "    def break_machine(self):\n",
        "        \"\"\"Break the machine every now and then.\"\"\"\n",
        "        while True:\n",
        "            yield self.env.timeout(time_to_failure())\n",
        "            if not self.broken:\n",
        "                # Only break the machine if it is currently working.\n",
        "                self.process.interrupt()\n",
        "\n",
        "\n",
        "def other_jobs(env, repairman):\n",
        "    \"\"\"The repairman's other (unimportant) job.\"\"\"\n",
        "    while True:\n",
        "        # Start a new job\n",
        "        done_in = JOB_DURATION\n",
        "        while done_in:\n",
        "            # Retry the job until it is done.\n",
        "            # It's priority is lower than that of machine repairs.\n",
        "            with repairman.request(priority=2) as req:\n",
        "                yield req\n",
        "                try:\n",
        "                    start = env.now\n",
        "                    yield env.timeout(done_in)\n",
        "                    done_in = 0\n",
        "                except simpy.Interrupt:\n",
        "                    done_in -= env.now - start\n",
        "\n",
        "\n",
        "# Setup and start the simulation\n",
        "print('Machine shop')\n",
        "random.seed(RANDOM_SEED)  # This helps reproducing the results\n",
        "\n",
        "# Create an environment and start the setup process\n",
        "env = simpy.Environment()\n",
        "repairman = simpy.PreemptiveResource(env, capacity=1)\n",
        "machines = [Machine(env, 'Machine %d' % i, repairman)\n",
        "            for i in range(NUM_MACHINES)]\n",
        "env.process(other_jobs(env, repairman))\n",
        "\n",
        "# Execute!\n",
        "env.run(until=SIM_TIME)\n",
        "\n",
        "# Analyis/results\n",
        "print('Machine shop results after %s weeks' % WEEKS)\n",
        "for machine in machines:\n",
        "    print('%s made %d parts.' % (machine.name, machine.parts_made))"
      ],
      "metadata": {
        "colab": {
          "base_uri": "https://localhost:8080/"
        },
        "id": "532dInHwwfo0",
        "outputId": "355e0865-e66d-4f69-b8da-451964f9e98d"
      },
      "execution_count": 13,
      "outputs": [
        {
          "output_type": "stream",
          "name": "stdout",
          "text": [
            "Machine shop\n",
            "Machine shop results after 4 weeks\n",
            "Machine 0 made 3251 parts.\n",
            "Machine 1 made 3273 parts.\n",
            "Machine 2 made 3242 parts.\n",
            "Machine 3 made 3343 parts.\n",
            "Machine 4 made 3387 parts.\n",
            "Machine 5 made 3244 parts.\n",
            "Machine 6 made 3269 parts.\n",
            "Machine 7 made 3185 parts.\n",
            "Machine 8 made 3302 parts.\n",
            "Machine 9 made 3279 parts.\n"
          ]
        }
      ]
    }
  ],
  "metadata": {
    "colab": {
      "collapsed_sections": [],
      "name": "JUIT_DSL.ipynb",
      "provenance": [],
      "authorship_tag": "ABX9TyNEcLoHIm1PJjoY4X6CzceZ",
      "include_colab_link": true
    },
    "kernelspec": {
      "display_name": "Python 3",
      "name": "python3"
    },
    "language_info": {
      "name": "python"
    }
  },
  "nbformat": 4,
  "nbformat_minor": 0
}